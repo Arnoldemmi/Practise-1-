{
  "cells": [
    {
      "cell_type": "markdown",
      "metadata": {
        "id": "view-in-github",
        "colab_type": "text"
      },
      "source": [
        "<a href=\"https://colab.research.google.com/github/Arnoldemmi/Practise-1-/blob/main/Python_%2C_Assignment_1.ipynb\" target=\"_parent\"><img src=\"https://colab.research.google.com/assets/colab-badge.svg\" alt=\"Open In Colab\"/></a>"
      ]
    },
    {
      "cell_type": "markdown",
      "id": "5efd181d",
      "metadata": {
        "id": "5efd181d"
      },
      "source": [
        "## Check the valid and invalid Variables using Python"
      ]
    },
    {
      "cell_type": "markdown",
      "id": "aebe5a40",
      "metadata": {
        "id": "aebe5a40"
      },
      "source": [
        "1. **Run all the Variables and seprate valid and Invalid Variables?**"
      ]
    },
    {
      "cell_type": "markdown",
      "id": "77c112d3",
      "metadata": {
        "id": "77c112d3"
      },
      "source": [
        "* my_variable = 25\n",
        "\n",
        "\n",
        "* counter = 40.7\n",
        "\n",
        "\n",
        "* _total = \"Hello\"\n",
        "\n",
        "\n",
        " - 123abc   = 34      \n",
        "\n",
        " - my variable   =6.7\n",
        "\n",
        " - @count  = \"hi\"      \n",
        "\n",
        " - for   = \"True\"\n",
        "\n",
        "\n",
        "* Name123 = 136\n",
        "\n",
        "* myFunction = True\n",
        "\n",
        "* _data = False\n",
        "- if_condition? = \"Innomatics\"\n",
        "- class = \"Hyderabad\""
      ]
    },
    {
      "cell_type": "code",
      "source": [
        "variables = [\n",
        "    \"my_variable\",\n",
        "    \"counter\",\n",
        "    \"_total\",\n",
        "    \"123abc\",\n",
        "    \"my variable\",\n",
        "    \"@count\",\n",
        "    \"for\",\n",
        "    \"Name123\",\n",
        "    \"myFunction\",\n",
        "    \"_data\",\n",
        "    \"if_condition?\",\n",
        "    \"class\",\n",
        "]\n",
        "\n",
        "valid_variables = []\n",
        "invalid_variables = []\n",
        "\n",
        "for variable in variables:\n",
        "    if variable.isidentifier() and variable not in {'for', 'if', 'class'}:\n",
        "        valid_variables.append(variable)\n",
        "    else:\n",
        "        invalid_variables.append(variable)\n",
        "\n",
        "print(\"Valid variables:\", valid_variables)\n",
        "print(\"Invalid variables:\", invalid_variables)\n"
      ],
      "metadata": {
        "colab": {
          "base_uri": "https://localhost:8080/"
        },
        "id": "ZqM4ZwcFwwko",
        "outputId": "ce6e4b3f-c06c-4839-fd02-dde3ffb840f9"
      },
      "id": "ZqM4ZwcFwwko",
      "execution_count": 13,
      "outputs": [
        {
          "output_type": "stream",
          "name": "stdout",
          "text": [
            "Valid variables: ['my_variable', 'counter', '_total', 'Name123', 'myFunction', '_data']\n",
            "Invalid variables: ['123abc', 'my variable', '@count', 'for', 'if_condition?', 'class']\n"
          ]
        }
      ]
    },
    {
      "cell_type": "markdown",
      "id": "806dc305-42bf-449e-add6-766abb327033",
      "metadata": {
        "id": "806dc305-42bf-449e-add6-766abb327033"
      },
      "source": [
        "2. **Why Python treating them as invalid Variables.Explain?**"
      ]
    },
    {
      "cell_type": "code",
      "source": [
        "\n",
        "\n"
      ],
      "metadata": {
        "colab": {
          "base_uri": "https://localhost:8080/"
        },
        "id": "6zSVxAZdq7Av",
        "outputId": "745c3d22-53b3-4b8b-fcb9-4a906a7c782b"
      },
      "id": "6zSVxAZdq7Av",
      "execution_count": 10,
      "outputs": [
        {
          "output_type": "stream",
          "name": "stdout",
          "text": [
            "Valid variables: ['my_variable', 'counter', '_total', 'Name123', 'myFunction', '_data']\n",
            "Invalid variables: ['123abc', 'my variable', '@count', 'for', 'if_condition?', 'class']\n"
          ]
        }
      ]
    },
    {
      "cell_type": "markdown",
      "source": [
        "InPython variable names must start with a letter (uppercase or lowercase) or an underscore, with subsequent characters allowed to include letters, digits (0-9), or underscores. Beginning with a number is not permitted. Spaces and most special characters, except underscores, are not accepted by the software/system.\n"
      ],
      "metadata": {
        "id": "eiDrlrDhvyNu"
      },
      "id": "eiDrlrDhvyNu"
    },
    {
      "cell_type": "markdown",
      "source": [],
      "metadata": {
        "id": "m8KpdcsYvwUz"
      },
      "id": "m8KpdcsYvwUz"
    },
    {
      "cell_type": "markdown",
      "id": "35c32a6f",
      "metadata": {
        "id": "35c32a6f"
      },
      "source": [
        "### 3. Use different variables and assign the below values"
      ]
    },
    {
      "cell_type": "markdown",
      "id": "d606e5ac",
      "metadata": {
        "id": "d606e5ac"
      },
      "source": [
        "10\n",
        "\n",
        "-5\n",
        "\n",
        "3.14159\n",
        "\n",
        "-0.12345\n",
        "\n",
        "1000\n",
        "\n",
        "\"Hello, World!\"\n",
        "\n",
        "\"Python\"\n",
        "\n",
        "\"I am learning\"\n",
        "\n",
        "\"Text type\"\n",
        "\n",
        "\"String\"\n",
        "\n",
        "True\n",
        "\n",
        "False\n",
        "\n",
        "True\n",
        "\n",
        "False\n",
        "\n",
        "True\n",
        "\n"
      ]
    },
    {
      "cell_type": "code",
      "execution_count": null,
      "id": "a8ce7a79",
      "metadata": {
        "id": "a8ce7a79"
      },
      "outputs": [],
      "source": []
    },
    {
      "cell_type": "code",
      "source": [
        "# Integer variables\n",
        "var1 = 10\n",
        "var2 = -5\n",
        "var5 = 1000\n",
        "\n",
        "# Float variables\n",
        "var3 = 3.14159\n",
        "var4 = -0.12345\n",
        "\n",
        "# String variables\n",
        "var6 = \"Hello, World!\"\n",
        "var7 = \"Python\"\n",
        "var8 = \"I am learning\"\n",
        "var9 = \"Text type\"\n",
        "var10 = \"String\"\n",
        "\n",
        "# Boolean variables\n",
        "var11 = True\n",
        "var12 = False\n",
        "var13 = True\n",
        "var14 = False\n",
        "var15 = True\n"
      ],
      "metadata": {
        "id": "rTqObDakwbca"
      },
      "id": "rTqObDakwbca",
      "execution_count": 12,
      "outputs": []
    }
  ],
  "metadata": {
    "kernelspec": {
      "display_name": "Python 3 (ipykernel)",
      "language": "python",
      "name": "python3"
    },
    "language_info": {
      "codemirror_mode": {
        "name": "ipython",
        "version": 3
      },
      "file_extension": ".py",
      "mimetype": "text/x-python",
      "name": "python",
      "nbconvert_exporter": "python",
      "pygments_lexer": "ipython3",
      "version": "3.10.0"
    },
    "colab": {
      "provenance": [],
      "include_colab_link": true
    }
  },
  "nbformat": 4,
  "nbformat_minor": 5
}